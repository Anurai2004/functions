{
  "nbformat": 4,
  "nbformat_minor": 0,
  "metadata": {
    "colab": {
      "provenance": []
    },
    "kernelspec": {
      "name": "python3",
      "display_name": "Python 3"
    },
    "language_info": {
      "name": "python"
    }
  },
  "cells": [
    {
      "cell_type": "markdown",
      "source": [
        "# Functions\n"
      ],
      "metadata": {
        "id": "0IovWXRx6mcT"
      }
    },
    {
      "cell_type": "code",
      "execution_count": null,
      "metadata": {
        "id": "IZR7qMQq5ugw"
      },
      "outputs": [],
      "source": [
        "# question\n",
        "'''\n",
        "this is answer\n",
        "'''\n"
      ]
    },
    {
      "cell_type": "markdown",
      "source": [
        "1. What is the difference between a function and a method in Python?\n",
        "   - a function is independent and can be called from anywhere,while a\n",
        "   method is tied to class or objects and must be called on thatobject\n",
        "   or within the class .\n",
        "2. second question\n",
        "   - this is answer for second question    "
      ],
      "metadata": {
        "id": "WRrdu7ah7fWD"
      }
    }
  ]
}